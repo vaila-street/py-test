{
  "cells": [
    {
      "cell_type": "markdown",
      "metadata": {
        "id": "view-in-github",
        "colab_type": "text"
      },
      "source": [
        "<a href=\"https://colab.research.google.com/github/vaila-street/py-test/blob/main/20200706_PP_without_reads.ipynb\" target=\"_parent\"><img src=\"https://colab.research.google.com/assets/colab-badge.svg\" alt=\"Open In Colab\"/></a>"
      ]
    },
    {
      "cell_type": "code",
      "execution_count": null,
      "metadata": {
        "id": "hH_ESwYIKFoY"
      },
      "outputs": [],
      "source": [
        "#Este programa sirve para justificar que unas cuentas de PP sin recargas venían de Vacant"
      ]
    },
    {
      "cell_type": "code",
      "execution_count": null,
      "metadata": {
        "id": "vniwMt0hKFod"
      },
      "outputs": [],
      "source": [
        "import pandas as pd \n",
        "import numpy as np\n",
        "import xml.etree.ElementTree as etree\n",
        "\n",
        "from pathlib import Path\n",
        "from os.path import join\n",
        "#home_dir = str(Path.home())\n",
        "#sys.path.append(join(home_dir, 'pythonclasses'))\n",
        "\n",
        "#Libería para trabajar con fechas\n",
        "import datetime\n",
        "from datetime import date\n",
        "from datetime import time\n",
        "from datetime import datetime\n",
        "\n",
        "#Librería para crear hojas excel\n",
        "import xlwt\n",
        "from xlwt.Workbook import *\n",
        "from pandas import ExcelWriter\n",
        "import xlsxwriter\n",
        "\n",
        "\n",
        "import cx_Oracle\n",
        "import sqlalchemy\n",
        "from sqlalchemy.engine import create_engine\n",
        "import time\n",
        "import glob\n",
        "import os\n",
        "import io\n",
        "import cx_Oracle\n",
        "\n",
        "from sqlalchemy import create_engine\n",
        "from sqlalchemy import MetaData\n",
        "from sqlalchemy import Table\n",
        "from sqlalchemy import Column, String"
      ]
    },
    {
      "cell_type": "code",
      "execution_count": null,
      "metadata": {
        "id": "yFRlVY9GKFoe"
      },
      "outputs": [],
      "source": [
        "def query_rbip(key_entry):\n",
        "    from sqlalchemy import create_engine\n",
        "    from sqlalchemy import MetaData\n",
        "    from sqlalchemy import Table\n",
        "    from sqlalchemy import Column, String\n",
        "    #Usuario y claves de la BBDD:\n",
        "    USERNAME = 'xxxxx' #enter your username\n",
        "    PASSWORD = 'xxxxxx' #enter your password\n",
        "    \n",
        "    #Definimos la conexión de Oracle\n",
        "    DIALECT = 'oracle'\n",
        "    SQL_DRIVER = 'cx_oracle'\n",
        "    HOST = 'ex021-orc.corp.iberdrola.com' #enter the oracle db host url\n",
        "    PORT = '1540' # enter the oracle port number\n",
        "    SERVICE = 'RBIP' # enter the oracle db service name\n",
        "    ENGINE_PATH_WIN_AUTH = f'{DIALECT}+{SQL_DRIVER}://{USERNAME}:{PASSWORD}@{HOST}:{PORT}/?service_name={SERVICE}'\n",
        "    engine = create_engine(ENGINE_PATH_WIN_AUTH)\n",
        "    metadata = MetaData()\n",
        "    #metadata.reflect(bind=engine)\n",
        "    \n",
        "    #Creamos la tabla AUX o borramos sus datos si ya existiera\n",
        "    try:\n",
        "        aux_table = Table('AUX2', \n",
        "                           metadata, \n",
        "                           Column('COLUMN1', \n",
        "                                  String(80), \n",
        "                                  primary_key=True), \n",
        "                           schema=USERNAME,\n",
        "                          )\n",
        "        aux_table.create(engine)\n",
        "    except:\n",
        "        aux_table = metadata.tables[USERNAME+'.AUX2']\n",
        "        with engine.connect() as conn:\n",
        "            conn.execute(aux_table.delete()) # Vaciamos la tabla \n",
        "\n",
        "    \n",
        "    #Carga los datos en la columna de la tabla auxiliar\n",
        "    column_to_upload = key_entry.iloc[:,0] # The data that want to upload to the database\n",
        "    clean_data = [str(i) for i in list(set(column_to_upload))] # The data must be uploaded as string without duplicates\n",
        "    data = [{'COLUMN1':str(i)} for i in clean_data if i==i]\n",
        "\n",
        "    with engine.connect() as conn:\n",
        "        conn.execute(aux_table.insert(), data)\n",
        "    #with engine.connect() as conn:\n",
        "        result_q1 = conn.execute(sql_query1)\n",
        "        output_q1 = result_q1.fetchall()\n",
        "\n",
        "    aux_table.drop(engine) # Eliminamos la AUX\n",
        "    engine.dispose() # Cerramos la conexión de DB\n",
        "    \n",
        "    return pd.DataFrame(output_q1, columns=result_q1.keys())"
      ]
    },
    {
      "cell_type": "code",
      "execution_count": null,
      "metadata": {
        "id": "i3a4ngoYKFof"
      },
      "outputs": [],
      "source": [
        "def query_bw(key_entry):\n",
        "    from sqlalchemy import create_engine\n",
        "    from sqlalchemy import MetaData\n",
        "    from sqlalchemy import Table\n",
        "    from sqlalchemy import Column, String\n",
        "    #Usuario y claves de la BBDD:\n",
        "    USERNAME = 'xxxx' #enter your username\n",
        "    PASSWORD = 'xxxx' #enter your password\n",
        "        \n",
        "    #Definimos la conexión de Oracle\n",
        "    DIALECT = 'oracle'\n",
        "    SQL_DRIVER = 'cx_oracle'\n",
        "    HOST = 'ex021-orc.corp.iberdrola.com' #enter the oracle db host url\n",
        "    PORT = '1540' # enter the oracle port number\n",
        "    SERVICE = 'BWUP' # enter the oracle db service name\n",
        "    ENGINE_PATH_WIN_AUTH = f'{DIALECT}+{SQL_DRIVER}://{USERNAME}:{PASSWORD}@{HOST}:{PORT}/?service_name={SERVICE}'\n",
        "    engine = create_engine(ENGINE_PATH_WIN_AUTH)\n",
        "    metadata = MetaData()\n",
        "    #metadata.reflect(bind=engine)\n",
        "    \n",
        "    #Creamos la tabla AUX o borramos sus datos si ya existiera\n",
        "    try:\n",
        "        aux_table = Table('U406403_AUX2', \n",
        "                           metadata, \n",
        "                           Column('COLUMN1', \n",
        "                                  String(80), \n",
        "                                  primary_key=True), \n",
        "                           schema=USERNAME,\n",
        "                          )\n",
        "        aux_table.create(engine)\n",
        "    except:\n",
        "        aux_table = metadata.tables[USERNAME+'.U406403_AUX2']\n",
        "        with engine.connect() as conn:\n",
        "            conn.execute(aux_table.delete()) # Vaciamos la tabla \n",
        "\n",
        "    \n",
        "    #Carga los datos en la columna de la tabla auxiliar\n",
        "    column_to_upload = key_entry.iloc[:,0] # The data that want to upload to the database\n",
        "    clean_data = [str(i) for i in list(set(column_to_upload))] # The data must be uploaded as string without duplicates\n",
        "    data = [{'COLUMN1':str(i)} for i in clean_data if i==i]\n",
        "\n",
        "    with engine.connect() as conn:\n",
        "        conn.execute(aux_table.insert(), data)\n",
        "    #with engine.connect() as conn:\n",
        "        result_q1 = conn.execute(sql_query1(USERNAME))\n",
        "        output_q1 = result_q1.fetchall()\n",
        "\n",
        "    aux_table.drop(engine) # Eliminamos la AUX\n",
        "    engine.dispose() # Cerramos la conexión de DB\n",
        "    \n",
        "    return pd.DataFrame(output_q1, columns=result_q1.keys())"
      ]
    },
    {
      "cell_type": "code",
      "execution_count": null,
      "metadata": {
        "id": "PrC9yGyEKFog"
      },
      "outputs": [],
      "source": [
        "import numpy as np\n",
        "import datetime\n",
        "today = np.datetime64(datetime.datetime.now())\n"
      ]
    },
    {
      "cell_type": "code",
      "execution_count": null,
      "metadata": {
        "id": "DUq0uOQwKFoh"
      },
      "outputs": [],
      "source": [
        "USERNAME = 'U406403'\n",
        "USERNAME_BW = 'U_UKBW_001'"
      ]
    },
    {
      "cell_type": "code",
      "execution_count": null,
      "metadata": {
        "id": "k_e4BBvGKFoi"
      },
      "outputs": [],
      "source": [
        "#Indicamos la ruta de trabajo\n",
        "import os\n",
        "workfolder=r'C:\\Users\\U406403\\Desktop\\Python\\20210705_AW_PP_without_reads' \n",
        "os.chdir(workfolder) "
      ]
    },
    {
      "cell_type": "code",
      "execution_count": null,
      "metadata": {
        "id": "a75ECPZPKFoi"
      },
      "outputs": [],
      "source": [
        "path_log = r'C:\\Users\\U406403\\Desktop\\Python\\20210705_AW_PP_without_reads\\Robot.log' \n",
        "def writelog(text, file=path_log): \n",
        "    from datetime import datetime \n",
        "    with open(file, 'a') as file: \n",
        "        now = datetime.today().strftime('%Y-%m-%d %H:%M:%S') \n",
        "        file.write(now + ' ' + text +'\\n') "
      ]
    },
    {
      "cell_type": "code",
      "execution_count": null,
      "metadata": {
        "id": "-0b4TuE8KFoi"
      },
      "outputs": [],
      "source": [
        "#Cargamos el archivo de partida\n",
        "file = 'PP_Export.xlsx' \n",
        "raw = pd.read_excel(join(workfolder,file), sheet_name='Exportar Hoja de Trabajo')"
      ]
    },
    {
      "cell_type": "code",
      "execution_count": null,
      "metadata": {
        "id": "3DqFkdBxKFoj"
      },
      "outputs": [],
      "source": [
        "#Formateamos el dataframe\n",
        "raw.columns= raw.columns.str.lower()\n",
        "raw = raw.rename(columns={'contrac_acc':'ca',})\n",
        "raw['ca']=raw['ca'].fillna(0).astype(np.int64).apply(str).str.zfill(12)"
      ]
    },
    {
      "cell_type": "code",
      "execution_count": null,
      "metadata": {
        "id": "_hi6Z5IEKFoj"
      },
      "outputs": [],
      "source": [
        "key_entry = raw[['installation']]"
      ]
    },
    {
      "cell_type": "code",
      "execution_count": null,
      "metadata": {
        "id": "gJSMq5GwKFoj"
      },
      "outputs": [],
      "source": [
        "#Lanzamos la query para obtener el POD\n",
        "def sql_query1(username): return \"\"\"\n",
        "   SELECT \t\t\n",
        "\t\tb..anlage  AS installation\t\t\n",
        "        a.EXT_UI  AS POD\t\t\n",
        "    FROM \t\t\n",
        "    \tcdc.UAP_EUITRANS@rbip a    \t\n",
        "    INNER JOIN \t\t\n",
        "        cdc.UAP_EUIINSTLN@rbip b\t\t\n",
        "        \tON a.int_UI = b.INT_UI\t\n",
        "    INNER JOIN\n",
        "        %s.U406403_AUX2 tb\n",
        "        ON \n",
        "        tb.COLUMN1 = b.ANLAGE\n",
        "                \"\"\"%username"
      ]
    },
    {
      "cell_type": "code",
      "execution_count": null,
      "metadata": {
        "id": "fiSbZzuWKFok"
      },
      "outputs": [],
      "source": [
        "#Lanzamos la query para obtener el POD\n",
        "def sql_query1(username): return \"\"\"\n",
        "    SELECT\n",
        "        ltrim(a.mpxn,0) AS pod,\n",
        "        a.installation\n",
        "    FROM reta.mv_integrated_md@rbip a\n",
        "    INNER JOIN\n",
        "        %s.U406403_AUX2 tb\n",
        "        ON \n",
        "        tb.COLUMN1 = a.installation\n",
        "                \"\"\"%username"
      ]
    },
    {
      "cell_type": "code",
      "execution_count": null,
      "metadata": {
        "id": "Ywr2CT97KFok"
      },
      "outputs": [],
      "source": [
        "writelog('query1_start')\n",
        "df_accounts1 = query_bw(key_entry)\n",
        "writelog('query1_end')"
      ]
    },
    {
      "cell_type": "code",
      "execution_count": null,
      "metadata": {
        "id": "Kd6DWO3zKFok"
      },
      "outputs": [],
      "source": [
        "#Incluimos el POD\n",
        "df_accounts1.drop_duplicates(subset=['installation'], inplace=True)\n",
        "df_accounts1['installation']= df_accounts1['installation'].astype(np.int64)\n",
        "raw = pd.merge(raw, df_accounts1, how= 'left', on='installation')"
      ]
    },
    {
      "cell_type": "code",
      "execution_count": null,
      "metadata": {
        "id": "sQKTvPL1KFok",
        "outputId": "9cb70cac-923f-4447-914a-b5a8d13f8741"
      },
      "outputs": [
        {
          "data": {
            "text/html": [
              "<div>\n",
              "<style scoped>\n",
              "    .dataframe tbody tr th:only-of-type {\n",
              "        vertical-align: middle;\n",
              "    }\n",
              "\n",
              "    .dataframe tbody tr th {\n",
              "        vertical-align: top;\n",
              "    }\n",
              "\n",
              "    .dataframe thead th {\n",
              "        text-align: right;\n",
              "    }\n",
              "</style>\n",
              "<table border=\"1\" class=\"dataframe\">\n",
              "  <thead>\n",
              "    <tr style=\"text-align: right;\">\n",
              "      <th></th>\n",
              "      <th>pod</th>\n",
              "      <th>installation</th>\n",
              "    </tr>\n",
              "  </thead>\n",
              "  <tbody>\n",
              "    <tr>\n",
              "      <th>55612</th>\n",
              "      <td>1273287509</td>\n",
              "      <td>3000004096</td>\n",
              "    </tr>\n",
              "  </tbody>\n",
              "</table>\n",
              "</div>"
            ],
            "text/plain": [
              "              pod  installation\n",
              "55612  1273287509    3000004096"
            ]
          },
          "execution_count": 324,
          "metadata": {},
          "output_type": "execute_result"
        }
      ],
      "source": [
        "df_accounts1[df_accounts1['installation']==3000004096]"
      ]
    },
    {
      "cell_type": "code",
      "execution_count": null,
      "metadata": {
        "id": "YxiU1_yuKFom"
      },
      "outputs": [],
      "source": [
        "key_entry = raw[['pod']]"
      ]
    },
    {
      "cell_type": "code",
      "execution_count": null,
      "metadata": {
        "id": "egCZbeAuKFom"
      },
      "outputs": [],
      "source": [
        "#Lanzamos la query para obtener el POD\n",
        "def sql_query1(username): return \"\"\"\n",
        "    SELECT \n",
        "        ltrim(a.ext_UI,0) AS pod,\n",
        "        a.z_date AS action_date,\n",
        "        a.ABLHINW AS mr_note\n",
        "    FROM\n",
        "        cdc.UAP_ZUDM_TMRFREETEXT@rbip a\n",
        "    INNER JOIN\n",
        "        %s.U406403_AUX2 tb\n",
        "        ON \n",
        "        tb.COLUMN1 = ltrim(a.ext_ui,0)\n",
        "                \"\"\"%username"
      ]
    },
    {
      "cell_type": "code",
      "execution_count": null,
      "metadata": {
        "id": "koIeYU36KFom"
      },
      "outputs": [],
      "source": [
        "writelog('query2_start')\n",
        "df_accounts2 = query_bw(key_entry)\n",
        "writelog('query2_end')"
      ]
    },
    {
      "cell_type": "code",
      "execution_count": null,
      "metadata": {
        "id": "aNSMVBiIKFom"
      },
      "outputs": [],
      "source": [
        "file = 'Free text codes.xlsx'\n",
        "Codes_mapping = pd.read_excel(join(workfolder,file), sheet_name='Sheet1')\n",
        "Codes_mapping['MR_NOTE'] = Codes_mapping['MR_NOTE'].astype(str)\n",
        "Codes_mapping = Codes_mapping.rename(columns={'MR_NOTE':'mr_note',})\n",
        "\n",
        "#Ponemos la MR_NOTE en texto para evitar problemas y borramos la fecha de los casos con MR_NOTE vacío\n",
        "df_accounts2['mr_note'] = df_accounts2['mr_note'].astype(str)\n",
        "df_accounts2['mr_note'] = df_accounts2['mr_note'].str.replace(' ', '')\n",
        "\n",
        "df_accounts2['action_date'] = np.where(df_accounts2['mr_note']=='', '', df_accounts2['action_date'])\n",
        "\n",
        "df_accounts2 = pd.merge(df_accounts2, Codes_mapping, how='left', on='mr_note' )\n"
      ]
    },
    {
      "cell_type": "code",
      "execution_count": null,
      "metadata": {
        "id": "M9ST_qFpKFon",
        "outputId": "bcbda923-4dfa-4589-89d9-4bc9caff25fb"
      },
      "outputs": [
        {
          "data": {
            "text/html": [
              "<div>\n",
              "<style scoped>\n",
              "    .dataframe tbody tr th:only-of-type {\n",
              "        vertical-align: middle;\n",
              "    }\n",
              "\n",
              "    .dataframe tbody tr th {\n",
              "        vertical-align: top;\n",
              "    }\n",
              "\n",
              "    .dataframe thead th {\n",
              "        text-align: right;\n",
              "    }\n",
              "</style>\n",
              "<table border=\"1\" class=\"dataframe\">\n",
              "  <thead>\n",
              "    <tr style=\"text-align: right;\">\n",
              "      <th></th>\n",
              "      <th>pod</th>\n",
              "      <th>action_date</th>\n",
              "      <th>mr_note</th>\n",
              "      <th>Freetext_Description</th>\n",
              "      <th>Freetext_Summary</th>\n",
              "      <th>Freetext_Summary_2</th>\n",
              "    </tr>\n",
              "  </thead>\n",
              "  <tbody>\n",
              "    <tr>\n",
              "      <th>0</th>\n",
              "      <td>5067442101</td>\n",
              "      <td>20170110</td>\n",
              "      <td>E133</td>\n",
              "      <td>Premises not visited</td>\n",
              "      <td>Others</td>\n",
              "      <td>No Contact</td>\n",
              "    </tr>\n",
              "    <tr>\n",
              "      <th>1</th>\n",
              "      <td>1001027202</td>\n",
              "      <td>20180913</td>\n",
              "      <td>E128</td>\n",
              "      <td>Unable to access premises</td>\n",
              "      <td>Others</td>\n",
              "      <td>No Contact</td>\n",
              "    </tr>\n",
              "    <tr>\n",
              "      <th>2</th>\n",
              "      <td>1001144700</td>\n",
              "      <td>20121018</td>\n",
              "      <td>E128</td>\n",
              "      <td>Unable to access premises</td>\n",
              "      <td>Others</td>\n",
              "      <td>No Contact</td>\n",
              "    </tr>\n",
              "    <tr>\n",
              "      <th>3</th>\n",
              "      <td>1001144700</td>\n",
              "      <td>20130117</td>\n",
              "      <td>E169</td>\n",
              "      <td>Insufficient address</td>\n",
              "      <td>Possible addess query</td>\n",
              "      <td>No Contact</td>\n",
              "    </tr>\n",
              "    <tr>\n",
              "      <th>4</th>\n",
              "      <td>1001144700</td>\n",
              "      <td>20131015</td>\n",
              "      <td>E169</td>\n",
              "      <td>Insufficient address</td>\n",
              "      <td>Possible addess query</td>\n",
              "      <td>No Contact</td>\n",
              "    </tr>\n",
              "  </tbody>\n",
              "</table>\n",
              "</div>"
            ],
            "text/plain": [
              "           pod action_date mr_note       Freetext_Description  \\\n",
              "0   5067442101    20170110    E133       Premises not visited   \n",
              "1   1001027202    20180913    E128  Unable to access premises   \n",
              "2   1001144700    20121018    E128  Unable to access premises   \n",
              "3   1001144700    20130117    E169       Insufficient address   \n",
              "4   1001144700    20131015    E169       Insufficient address   \n",
              "\n",
              "        Freetext_Summary Freetext_Summary_2  \n",
              "0                 Others         No Contact  \n",
              "1                 Others         No Contact  \n",
              "2                 Others         No Contact  \n",
              "3  Possible addess query         No Contact  \n",
              "4  Possible addess query         No Contact  "
            ]
          },
          "execution_count": 329,
          "metadata": {},
          "output_type": "execute_result"
        }
      ],
      "source": [
        "df_accounts2.head()"
      ]
    },
    {
      "cell_type": "code",
      "execution_count": null,
      "metadata": {
        "id": "5e_CL-rIKFon",
        "outputId": "908183a6-468a-4d13-a2ab-383ecf4f204b"
      },
      "outputs": [
        {
          "name": "stderr",
          "output_type": "stream",
          "text": [
            "C:\\Users\\U406403\\AppData\\Local\\Continuum\\anaconda3\\lib\\site-packages\\ipykernel_launcher.py:2: SettingWithCopyWarning: \n",
            "A value is trying to be set on a copy of a slice from a DataFrame\n",
            "\n",
            "See the caveats in the documentation: http://pandas.pydata.org/pandas-docs/stable/indexing.html#indexing-view-versus-copy\n",
            "  \n"
          ]
        }
      ],
      "source": [
        "midate = raw[['pod', 'contract_mi']]\n",
        "midate.drop_duplicates(subset=['pod'], inplace=True)\n",
        "\n",
        "df_accounts2 = pd.merge(df_accounts2, midate, how='left', on='pod' )\n",
        "\n",
        "df_accounts2['action_date'] = pd.to_datetime(df_accounts2['action_date'],format='%Y%m%d',errors='coerce')\n",
        "df_accounts2['contract_mi'] = pd.to_datetime(df_accounts2['contract_mi'],format='%Y%m%d',errors='coerce')\n",
        "\n",
        "\n",
        "df_accounts2 = df_accounts2[(df_accounts2['contract_mi']>df_accounts2['action_date'])]\n",
        "df_accounts2 = df_accounts2.sort_values(['pod','action_date'],ascending=[True, False])\n",
        "df_accounts2.drop_duplicates(subset=['pod'], inplace=True)\n",
        "df_accounts2 = df_accounts2.drop(['contract_mi'], axis=1)\n",
        "\n",
        "raw = pd.merge(raw, df_accounts2, how='left', on='pod' )"
      ]
    },
    {
      "cell_type": "code",
      "execution_count": null,
      "metadata": {
        "id": "J__wJ2qdKFon"
      },
      "outputs": [],
      "source": [
        "key_entry = raw[['installation']]"
      ]
    },
    {
      "cell_type": "code",
      "execution_count": null,
      "metadata": {
        "id": "CJG_SNyeKFoo"
      },
      "outputs": [],
      "source": [
        "#Lanzamos la query para obtener la CA anterior a PP\n",
        "def sql_query1(username): return \"\"\"\n",
        "    WITH aux as(\n",
        "    SELECT\n",
        "        a.installation,\n",
        "        a.contract_account,\n",
        "    row_number() OVER (PARTITION BY a.installation ORDER BY a.moveout_date desc) RN\n",
        "    FROM \n",
        "        reta.mv_integrated_md@rbip a\n",
        "    INNER JOIN\n",
        "        %s.U406403_AUX2 tb\n",
        "        ON \n",
        "        tb.COLUMN1 = a.installation\n",
        "    WHERE\n",
        "        payment_plan != 'BMW'\n",
        "    ORDER BY moveout_date desc\n",
        "    )\n",
        "    SELECT\n",
        "        installation,\n",
        "        contract_account as old_ca\n",
        "    FROM AUX\n",
        "    WHERE rn = 1\n",
        "                \"\"\"%username"
      ]
    },
    {
      "cell_type": "code",
      "execution_count": null,
      "metadata": {
        "id": "mGcl24drKFoo"
      },
      "outputs": [],
      "source": [
        "writelog('query3_start')\n",
        "df_accounts3 = query_bw(key_entry)\n",
        "writelog('query3_end')"
      ]
    },
    {
      "cell_type": "code",
      "execution_count": null,
      "metadata": {
        "id": "AW7kT8q5KFoo"
      },
      "outputs": [],
      "source": [
        "df_accounts3['installation']= df_accounts3['installation'].astype(np.int64)\n",
        "df_accounts3.drop_duplicates(subset=['installation'], inplace=True)\n",
        "raw = pd.merge(raw, df_accounts3, how='left', on='installation' )"
      ]
    },
    {
      "cell_type": "code",
      "execution_count": null,
      "metadata": {
        "id": "KHdcj5q8KFoo"
      },
      "outputs": [],
      "source": [
        "key_entry = raw[['old_ca']]"
      ]
    },
    {
      "cell_type": "code",
      "execution_count": null,
      "metadata": {
        "id": "CFRVScsmKFop"
      },
      "outputs": [],
      "source": [
        "#Lanzamos la query para obtener el último maintin\n",
        "def sql_query1(username): return \"\"\"\n",
        "    SELECT\n",
        "        a.vkont as old_ca,\n",
        "        a.zzcode as maintin,\n",
        "        a.zzmfvdat as maintin_date\n",
        "    FROM cdc.UAP_ZUFI_T_PLACEHIST@rbip a\n",
        "    JOIN \n",
        "        dunning_config b\n",
        "    ON \n",
        "        a.zzcode = b.value_enabled\n",
        "    INNER JOIN\n",
        "        %s.U406403_AUX2 tb\n",
        "        ON \n",
        "        tb.COLUMN1 = a.vkont\n",
        "    WHERE \n",
        "        a.zzrectyp = 'I'\n",
        "    AND a.zzplace_typ != 'WARRANT'\n",
        "    AND a.zzplace_typ != 'PPM WARRANT'\n",
        "    AND \n",
        "        b.field = 'OUTCOME_ON_LAST_MONTHS'\n",
        "                \"\"\"%username"
      ]
    },
    {
      "cell_type": "code",
      "execution_count": null,
      "metadata": {
        "id": "uE0vtoTAKFop"
      },
      "outputs": [],
      "source": [
        "writelog('query4_start')\n",
        "df_accounts4 = query_bw(key_entry)\n",
        "writelog('query4_end')"
      ]
    },
    {
      "cell_type": "code",
      "execution_count": null,
      "metadata": {
        "id": "ntTCmWXcKFoq",
        "outputId": "9b279c31-428e-4f5b-c3b8-8ff5c974cd0f"
      },
      "outputs": [
        {
          "name": "stderr",
          "output_type": "stream",
          "text": [
            "C:\\Users\\U406403\\AppData\\Local\\Continuum\\anaconda3\\lib\\site-packages\\ipykernel_launcher.py:4: SettingWithCopyWarning: \n",
            "A value is trying to be set on a copy of a slice from a DataFrame\n",
            "\n",
            "See the caveats in the documentation: http://pandas.pydata.org/pandas-docs/stable/indexing.html#indexing-view-versus-copy\n",
            "  after removing the cwd from sys.path.\n"
          ]
        }
      ],
      "source": [
        "df_accounts4['maintin_date'] = pd.to_datetime(df_accounts4['maintin_date'],format='%Y%m%d',errors='coerce')\n",
        "raw['contract_mi'] = pd.to_datetime(raw['contract_mi'],format='%Y%m%d',errors='coerce')\n",
        "midate = raw[['old_ca', 'contract_mi']]\n",
        "midate.drop_duplicates(subset=['old_ca'], inplace=True)\n",
        "df_accounts4 = pd.merge(df_accounts4, midate, how='left', on='old_ca' )\n",
        "\n",
        "\n",
        "df_accounts4 = df_accounts4[(df_accounts4['contract_mi']>df_accounts4['maintin_date'])]\n",
        "df_accounts4 = df_accounts4.sort_values(['old_ca','maintin_date'],ascending=[True, False])\n",
        "df_accounts4.drop_duplicates(subset=['old_ca'], inplace=True)\n",
        "df_accounts4 = df_accounts4.drop(['contract_mi'], axis=1)"
      ]
    },
    {
      "cell_type": "code",
      "execution_count": null,
      "metadata": {
        "id": "19Td_bASKFoq"
      },
      "outputs": [],
      "source": [
        "raw = pd.merge(raw, df_accounts4, how='left', on='old_ca' )"
      ]
    },
    {
      "cell_type": "code",
      "execution_count": null,
      "metadata": {
        "id": "gklqQDucKFoq"
      },
      "outputs": [],
      "source": [
        "raw = raw.rename(columns={'old_ca':'last_ca_noBMW',})"
      ]
    },
    {
      "cell_type": "code",
      "execution_count": null,
      "metadata": {
        "id": "PGB5uq80KFoq"
      },
      "outputs": [],
      "source": [
        "key_entry = raw[['installation']]"
      ]
    },
    {
      "cell_type": "code",
      "execution_count": null,
      "metadata": {
        "id": "h5kx7pUVKFor"
      },
      "outputs": [],
      "source": [
        "#Lanzamos la query para obtener la CA anterior\n",
        "def sql_query1(username): return \"\"\"\n",
        "    SELECT\n",
        "        a.installation,\n",
        "        a.contract_account as last_ca,\n",
        "        a.payment_plan as last_ca_payplan,\n",
        "        a.moveout_date as last_ca_mo\n",
        "    FROM \n",
        "        reta.mv_integrated_md@rbip a\n",
        "    INNER JOIN\n",
        "        %s.U406403_AUX2 tb\n",
        "        ON \n",
        "        tb.COLUMN1 = a.installation\n",
        "                \"\"\"%username"
      ]
    },
    {
      "cell_type": "code",
      "execution_count": null,
      "metadata": {
        "id": "8Y3AE-8hKFor"
      },
      "outputs": [],
      "source": [
        "writelog('query5_start')\n",
        "df_accounts5 = query_bw(key_entry)\n",
        "writelog('query5_end')"
      ]
    },
    {
      "cell_type": "code",
      "execution_count": null,
      "metadata": {
        "id": "mz1-YOEVKFor",
        "outputId": "56d75cf0-7291-4afd-adab-05a37e365a29"
      },
      "outputs": [
        {
          "data": {
            "text/html": [
              "<div>\n",
              "<style scoped>\n",
              "    .dataframe tbody tr th:only-of-type {\n",
              "        vertical-align: middle;\n",
              "    }\n",
              "\n",
              "    .dataframe tbody tr th {\n",
              "        vertical-align: top;\n",
              "    }\n",
              "\n",
              "    .dataframe thead th {\n",
              "        text-align: right;\n",
              "    }\n",
              "</style>\n",
              "<table border=\"1\" class=\"dataframe\">\n",
              "  <thead>\n",
              "    <tr style=\"text-align: right;\">\n",
              "      <th></th>\n",
              "      <th>installation</th>\n",
              "      <th>last_ca</th>\n",
              "      <th>last_ca_payplan</th>\n",
              "      <th>last_ca_mo</th>\n",
              "    </tr>\n",
              "  </thead>\n",
              "  <tbody>\n",
              "    <tr>\n",
              "      <th>0</th>\n",
              "      <td>3003940700</td>\n",
              "      <td>061891874021</td>\n",
              "      <td>BMW</td>\n",
              "      <td>2020-02-05 00:00:00</td>\n",
              "    </tr>\n",
              "    <tr>\n",
              "      <th>1</th>\n",
              "      <td>3005048005</td>\n",
              "      <td>060211985029</td>\n",
              "      <td>BMW</td>\n",
              "      <td>2016-08-18 00:00:00</td>\n",
              "    </tr>\n",
              "    <tr>\n",
              "      <th>2</th>\n",
              "      <td>3005048005</td>\n",
              "      <td>060211985029</td>\n",
              "      <td>BMW</td>\n",
              "      <td>9999-12-31 00:00:00</td>\n",
              "    </tr>\n",
              "    <tr>\n",
              "      <th>3</th>\n",
              "      <td>3005270932</td>\n",
              "      <td>016082174238</td>\n",
              "      <td>BMW</td>\n",
              "      <td>9999-12-31 00:00:00</td>\n",
              "    </tr>\n",
              "    <tr>\n",
              "      <th>4</th>\n",
              "      <td>3003961072</td>\n",
              "      <td>016072972712</td>\n",
              "      <td>BMW</td>\n",
              "      <td>9999-12-31 00:00:00</td>\n",
              "    </tr>\n",
              "  </tbody>\n",
              "</table>\n",
              "</div>"
            ],
            "text/plain": [
              "  installation       last_ca last_ca_payplan           last_ca_mo\n",
              "0   3003940700  061891874021             BMW  2020-02-05 00:00:00\n",
              "1   3005048005  060211985029             BMW  2016-08-18 00:00:00\n",
              "2   3005048005  060211985029             BMW  9999-12-31 00:00:00\n",
              "3   3005270932  016082174238             BMW  9999-12-31 00:00:00\n",
              "4   3003961072  016072972712             BMW  9999-12-31 00:00:00"
            ]
          },
          "execution_count": 344,
          "metadata": {},
          "output_type": "execute_result"
        }
      ],
      "source": [
        "df_accounts5.head()"
      ]
    },
    {
      "cell_type": "code",
      "execution_count": null,
      "metadata": {
        "id": "TKVZT4kkKFos"
      },
      "outputs": [],
      "source": [
        "# raw = raw.drop(['last_ca'], axis=1)\n",
        "# raw = raw.drop(['last_ca_payplan'], axis=1)\n",
        "# raw = raw.drop(['moveout_date'], axis=1)\n"
      ]
    },
    {
      "cell_type": "code",
      "execution_count": null,
      "metadata": {
        "id": "vYUIlLlWKFos"
      },
      "outputs": [],
      "source": [
        "#Todos los casos de 9999 los pasamo a 2200 para que no de error al pasar a fecha\n",
        "df_accounts5['last_ca_mo'] = df_accounts5['last_ca_mo'].astype(str)\n",
        "df_accounts5['last_ca_mo']= df_accounts5['last_ca_mo'].str.replace('9999', '2200')\n",
        "df_accounts5['last_ca_mo'] = pd.to_datetime(df_accounts5['last_ca_mo'],format='%Y-%m-%d 00:00:00',errors='coerce')\n",
        "\n",
        "#Ordenamos de mayor a menor\n",
        "df_accounts5 = df_accounts5.sort_values(['last_ca','last_ca_mo'],ascending=[True, False])"
      ]
    },
    {
      "cell_type": "code",
      "execution_count": null,
      "metadata": {
        "id": "svw76if_KFos",
        "outputId": "95475277-dcbc-4753-da31-1c329321025f"
      },
      "outputs": [
        {
          "name": "stderr",
          "output_type": "stream",
          "text": [
            "C:\\Users\\U406403\\AppData\\Local\\Continuum\\anaconda3\\lib\\site-packages\\ipykernel_launcher.py:3: SettingWithCopyWarning: \n",
            "A value is trying to be set on a copy of a slice from a DataFrame\n",
            "\n",
            "See the caveats in the documentation: http://pandas.pydata.org/pandas-docs/stable/indexing.html#indexing-view-versus-copy\n",
            "  This is separate from the ipykernel package so we can avoid doing imports until\n"
          ]
        }
      ],
      "source": [
        "#Comparamos la fecha contra la de la CA y nos quedamos justo con la anterior ca.\n",
        "midate = raw[['installation', 'contract_mi']]\n",
        "midate.drop_duplicates(subset=['installation'], inplace=True)\n",
        "df_accounts5['installation']= df_accounts5['installation'].astype(np.int64)\n",
        "df_accounts5 = pd.merge(df_accounts5, midate, how= 'left', on='installation')\n",
        "\n",
        "df_accounts5 = df_accounts5[(df_accounts5['contract_mi']>=df_accounts5['last_ca_mo'])]\n",
        "df_accounts5 = df_accounts5.sort_values(['last_ca','last_ca_mo'],ascending=[True, False])\n",
        "df_accounts5.drop_duplicates(subset=['installation'], inplace=True)\n",
        "df_accounts5 = df_accounts5.drop(['contract_mi'], axis=1)\n",
        "\n",
        "raw = pd.merge(raw, df_accounts5, how = 'left', on='installation')"
      ]
    },
    {
      "cell_type": "code",
      "execution_count": null,
      "metadata": {
        "id": "LLaXH39SKFos",
        "outputId": "e65025a5-7a36-4d50-b48b-9e4ed6ce8811"
      },
      "outputs": [
        {
          "data": {
            "text/html": [
              "<div>\n",
              "<style scoped>\n",
              "    .dataframe tbody tr th:only-of-type {\n",
              "        vertical-align: middle;\n",
              "    }\n",
              "\n",
              "    .dataframe tbody tr th {\n",
              "        vertical-align: top;\n",
              "    }\n",
              "\n",
              "    .dataframe thead th {\n",
              "        text-align: right;\n",
              "    }\n",
              "</style>\n",
              "<table border=\"1\" class=\"dataframe\">\n",
              "  <thead>\n",
              "    <tr style=\"text-align: right;\">\n",
              "      <th></th>\n",
              "      <th>installation</th>\n",
              "      <th>contract</th>\n",
              "      <th>div</th>\n",
              "      <th>mi_year</th>\n",
              "      <th>mi_year_comment</th>\n",
              "      <th>mi_year_comment_2</th>\n",
              "      <th>contract_mi</th>\n",
              "      <th>contract_mo</th>\n",
              "      <th>ca</th>\n",
              "      <th>zzpayment_plan</th>\n",
              "      <th>...</th>\n",
              "      <th>mr_note</th>\n",
              "      <th>Freetext_Description</th>\n",
              "      <th>Freetext_Summary</th>\n",
              "      <th>Freetext_Summary_2</th>\n",
              "      <th>last_ca_noBMW</th>\n",
              "      <th>maintin</th>\n",
              "      <th>maintin_date</th>\n",
              "      <th>last_ca</th>\n",
              "      <th>last_ca_payplan</th>\n",
              "      <th>last_ca_mo</th>\n",
              "    </tr>\n",
              "  </thead>\n",
              "  <tbody>\n",
              "    <tr>\n",
              "      <th>0</th>\n",
              "      <td>3000004096</td>\n",
              "      <td>62704402</td>\n",
              "      <td>2</td>\n",
              "      <td>2016</td>\n",
              "      <td>2016</td>\n",
              "      <td>2016</td>\n",
              "      <td>2016-04-26</td>\n",
              "      <td>99991231</td>\n",
              "      <td>016061945783</td>\n",
              "      <td>BMW</td>\n",
              "      <td>...</td>\n",
              "      <td>E128</td>\n",
              "      <td>Unable to access premises</td>\n",
              "      <td>Others</td>\n",
              "      <td>No Contact</td>\n",
              "      <td>016020092500</td>\n",
              "      <td>NaN</td>\n",
              "      <td>NaT</td>\n",
              "      <td>016020092500</td>\n",
              "      <td>RCQ</td>\n",
              "      <td>2016-04-25</td>\n",
              "    </tr>\n",
              "    <tr>\n",
              "      <th>1</th>\n",
              "      <td>3000007223</td>\n",
              "      <td>66125098</td>\n",
              "      <td>1</td>\n",
              "      <td>2019</td>\n",
              "      <td>2019</td>\n",
              "      <td>2019</td>\n",
              "      <td>2019-11-25</td>\n",
              "      <td>99991231</td>\n",
              "      <td>016088707077</td>\n",
              "      <td>BMW</td>\n",
              "      <td>...</td>\n",
              "      <td>20</td>\n",
              "      <td>No Access</td>\n",
              "      <td>Others</td>\n",
              "      <td>No Contact</td>\n",
              "      <td>016042935167</td>\n",
              "      <td>52</td>\n",
              "      <td>2019-08-05</td>\n",
              "      <td>009076453015</td>\n",
              "      <td>BDM</td>\n",
              "      <td>2016-04-30</td>\n",
              "    </tr>\n",
              "    <tr>\n",
              "      <th>2</th>\n",
              "      <td>3000009773</td>\n",
              "      <td>60864734</td>\n",
              "      <td>1</td>\n",
              "      <td>2017</td>\n",
              "      <td>2017</td>\n",
              "      <td>2017</td>\n",
              "      <td>2017-02-20</td>\n",
              "      <td>99991231</td>\n",
              "      <td>016046109190</td>\n",
              "      <td>BMW</td>\n",
              "      <td>...</td>\n",
              "      <td>20</td>\n",
              "      <td>No Access</td>\n",
              "      <td>Others</td>\n",
              "      <td>No Contact</td>\n",
              "      <td>090163356013</td>\n",
              "      <td>NaN</td>\n",
              "      <td>NaT</td>\n",
              "      <td>090163356013</td>\n",
              "      <td>RCQ</td>\n",
              "      <td>2017-02-19</td>\n",
              "    </tr>\n",
              "    <tr>\n",
              "      <th>3</th>\n",
              "      <td>3000011470</td>\n",
              "      <td>62643155</td>\n",
              "      <td>1</td>\n",
              "      <td>2018</td>\n",
              "      <td>2018</td>\n",
              "      <td>2018</td>\n",
              "      <td>2018-01-08</td>\n",
              "      <td>99991231</td>\n",
              "      <td>016061410774</td>\n",
              "      <td>BMW</td>\n",
              "      <td>...</td>\n",
              "      <td>19</td>\n",
              "      <td>Call not made on routine visit</td>\n",
              "      <td>Others</td>\n",
              "      <td>No Contact</td>\n",
              "      <td>016044686144</td>\n",
              "      <td>52</td>\n",
              "      <td>2017-10-13</td>\n",
              "      <td>016000049617</td>\n",
              "      <td>BCM</td>\n",
              "      <td>2016-03-16</td>\n",
              "    </tr>\n",
              "    <tr>\n",
              "      <th>4</th>\n",
              "      <td>3000013813</td>\n",
              "      <td>64537002</td>\n",
              "      <td>2</td>\n",
              "      <td>2019</td>\n",
              "      <td>2019</td>\n",
              "      <td>2019</td>\n",
              "      <td>2019-06-06</td>\n",
              "      <td>99991231</td>\n",
              "      <td>016077584175</td>\n",
              "      <td>BMW</td>\n",
              "      <td>...</td>\n",
              "      <td>E133</td>\n",
              "      <td>Premises not visited</td>\n",
              "      <td>Others</td>\n",
              "      <td>No Contact</td>\n",
              "      <td>016026845787</td>\n",
              "      <td>NaN</td>\n",
              "      <td>NaT</td>\n",
              "      <td>016025074149</td>\n",
              "      <td>RCQ</td>\n",
              "      <td>2016-01-31</td>\n",
              "    </tr>\n",
              "  </tbody>\n",
              "</table>\n",
              "<p>5 rows × 38 columns</p>\n",
              "</div>"
            ],
            "text/plain": [
              "   installation  contract  div  mi_year  mi_year_comment  mi_year_comment_2  \\\n",
              "0    3000004096  62704402    2     2016             2016               2016   \n",
              "1    3000007223  66125098    1     2019             2019               2019   \n",
              "2    3000009773  60864734    1     2017             2017               2017   \n",
              "3    3000011470  62643155    1     2018             2018               2018   \n",
              "4    3000013813  64537002    2     2019             2019               2019   \n",
              "\n",
              "  contract_mi  contract_mo            ca zzpayment_plan    ...     mr_note  \\\n",
              "0  2016-04-26     99991231  016061945783            BMW    ...        E128   \n",
              "1  2019-11-25     99991231  016088707077            BMW    ...          20   \n",
              "2  2017-02-20     99991231  016046109190            BMW    ...          20   \n",
              "3  2018-01-08     99991231  016061410774            BMW    ...          19   \n",
              "4  2019-06-06     99991231  016077584175            BMW    ...        E133   \n",
              "\n",
              "             Freetext_Description Freetext_Summary Freetext_Summary_2  \\\n",
              "0       Unable to access premises           Others         No Contact   \n",
              "1                       No Access           Others         No Contact   \n",
              "2                       No Access           Others         No Contact   \n",
              "3  Call not made on routine visit           Others         No Contact   \n",
              "4            Premises not visited           Others         No Contact   \n",
              "\n",
              "  last_ca_noBMW  maintin maintin_date       last_ca  last_ca_payplan  \\\n",
              "0  016020092500      NaN          NaT  016020092500              RCQ   \n",
              "1  016042935167       52   2019-08-05  009076453015              BDM   \n",
              "2  090163356013      NaN          NaT  090163356013              RCQ   \n",
              "3  016044686144       52   2017-10-13  016000049617              BCM   \n",
              "4  016026845787      NaN          NaT  016025074149              RCQ   \n",
              "\n",
              "  last_ca_mo  \n",
              "0 2016-04-25  \n",
              "1 2016-04-30  \n",
              "2 2017-02-19  \n",
              "3 2016-03-16  \n",
              "4 2016-01-31  \n",
              "\n",
              "[5 rows x 38 columns]"
            ]
          },
          "execution_count": 348,
          "metadata": {},
          "output_type": "execute_result"
        }
      ],
      "source": [
        "raw.head()"
      ]
    },
    {
      "cell_type": "code",
      "execution_count": null,
      "metadata": {
        "id": "JPKpYbL0KFot"
      },
      "outputs": [],
      "source": [
        "#Creamos el scenario1\n",
        "raw.loc[(raw['last_ca_noBMW']==raw['last_ca']),'Scenario_1'] = 'Last CA was BMW'\n",
        "raw.loc[(raw['last_ca'].isnull()),'Scenario_1'] = 'No previous CA'\n",
        "raw.loc[(raw['last_ca_noBMW'].isnull()),'Scenario_1'] = 'Only BMW CAs previously'\n",
        "raw.loc[(raw['Scenario_1'].isnull()),'Scenario_1'] = 'Last CA was no BMW'"
      ]
    },
    {
      "cell_type": "code",
      "execution_count": null,
      "metadata": {
        "id": "KJAp2k4YKFot"
      },
      "outputs": [],
      "source": [
        "#Creamos el scenario2\n",
        "raw.loc[(raw['maintin']=='52'),'Scenario_DCA'] = 'No contact3rd'\n",
        "raw.loc[(raw['maintin']=='59'),'Scenario_DCA'] = 'No contact'\n",
        "raw.loc[(raw['maintin']=='49'),'Scenario_DCA'] = 'Vacant'\n",
        "raw.loc[(raw['maintin'].isnull()),'Scenario_DCA'] = 'No previous maintin'\n",
        "raw.loc[(raw['Scenario_DCA'].isnull()),'Scenario_DCA'] = 'Customer contacted'"
      ]
    },
    {
      "cell_type": "code",
      "execution_count": null,
      "metadata": {
        "id": "NjO1tNA3KFot"
      },
      "outputs": [],
      "source": [
        "#Creamos el scenario3\n",
        "raw.loc[(raw['Freetext_Summary_2']=='No Contact'),'Scenario_DR'] = 'Last DR visit pre contract with no contact'\n",
        "raw.loc[(raw['mr_note']=='E126'),'Scenario_DR'] = 'Last DR visit pre contract with Vacant'\n",
        "raw.loc[(raw['Freetext_Summary_2']=='Contact'),'Scenario_DR'] = 'Last DR visit pre contract with contact'\n",
        "raw.loc[(raw['Freetext_Summary_2'].isnull()),'Scenario_DR'] = 'No previous DR visit'\n"
      ]
    },
    {
      "cell_type": "code",
      "execution_count": null,
      "metadata": {
        "id": "xNQgnnwLKFot"
      },
      "outputs": [],
      "source": [
        "raw['contract'] = raw['contract'].apply(str).str.zfill(10)\n",
        "key_entry = raw[['contract']]\n"
      ]
    },
    {
      "cell_type": "code",
      "execution_count": null,
      "metadata": {
        "id": "s8zKgU9QKFou",
        "outputId": "4900a4be-2796-4e35-c89d-94a814bd719f"
      },
      "outputs": [
        {
          "data": {
            "text/html": [
              "<div>\n",
              "<style scoped>\n",
              "    .dataframe tbody tr th:only-of-type {\n",
              "        vertical-align: middle;\n",
              "    }\n",
              "\n",
              "    .dataframe tbody tr th {\n",
              "        vertical-align: top;\n",
              "    }\n",
              "\n",
              "    .dataframe thead th {\n",
              "        text-align: right;\n",
              "    }\n",
              "</style>\n",
              "<table border=\"1\" class=\"dataframe\">\n",
              "  <thead>\n",
              "    <tr style=\"text-align: right;\">\n",
              "      <th></th>\n",
              "      <th>installation</th>\n",
              "      <th>contract</th>\n",
              "      <th>div</th>\n",
              "      <th>mi_year</th>\n",
              "      <th>mi_year_comment</th>\n",
              "      <th>mi_year_comment_2</th>\n",
              "      <th>contract_mi</th>\n",
              "      <th>contract_mo</th>\n",
              "      <th>ca</th>\n",
              "      <th>zzpayment_plan</th>\n",
              "      <th>...</th>\n",
              "      <th>Freetext_Summary_2</th>\n",
              "      <th>last_ca_noBMW</th>\n",
              "      <th>maintin</th>\n",
              "      <th>maintin_date</th>\n",
              "      <th>last_ca</th>\n",
              "      <th>last_ca_payplan</th>\n",
              "      <th>last_ca_mo</th>\n",
              "      <th>Scenario_1</th>\n",
              "      <th>Scenario_DCA</th>\n",
              "      <th>Scenario_DR</th>\n",
              "    </tr>\n",
              "  </thead>\n",
              "  <tbody>\n",
              "    <tr>\n",
              "      <th>0</th>\n",
              "      <td>3000004096</td>\n",
              "      <td>0062704402</td>\n",
              "      <td>2</td>\n",
              "      <td>2016</td>\n",
              "      <td>2016</td>\n",
              "      <td>2016</td>\n",
              "      <td>2016-04-26</td>\n",
              "      <td>99991231</td>\n",
              "      <td>016061945783</td>\n",
              "      <td>BMW</td>\n",
              "      <td>...</td>\n",
              "      <td>No Contact</td>\n",
              "      <td>016020092500</td>\n",
              "      <td>NaN</td>\n",
              "      <td>NaT</td>\n",
              "      <td>016020092500</td>\n",
              "      <td>RCQ</td>\n",
              "      <td>2016-04-25</td>\n",
              "      <td>Last CA was BMW</td>\n",
              "      <td>No previous maintin</td>\n",
              "      <td>Last DR visit pre contract with no contact</td>\n",
              "    </tr>\n",
              "    <tr>\n",
              "      <th>1</th>\n",
              "      <td>3000007223</td>\n",
              "      <td>0066125098</td>\n",
              "      <td>1</td>\n",
              "      <td>2019</td>\n",
              "      <td>2019</td>\n",
              "      <td>2019</td>\n",
              "      <td>2019-11-25</td>\n",
              "      <td>99991231</td>\n",
              "      <td>016088707077</td>\n",
              "      <td>BMW</td>\n",
              "      <td>...</td>\n",
              "      <td>No Contact</td>\n",
              "      <td>016042935167</td>\n",
              "      <td>52</td>\n",
              "      <td>2019-08-05</td>\n",
              "      <td>009076453015</td>\n",
              "      <td>BDM</td>\n",
              "      <td>2016-04-30</td>\n",
              "      <td>Last CA was no BMW</td>\n",
              "      <td>No contact3rd</td>\n",
              "      <td>Last DR visit pre contract with no contact</td>\n",
              "    </tr>\n",
              "    <tr>\n",
              "      <th>2</th>\n",
              "      <td>3000009773</td>\n",
              "      <td>0060864734</td>\n",
              "      <td>1</td>\n",
              "      <td>2017</td>\n",
              "      <td>2017</td>\n",
              "      <td>2017</td>\n",
              "      <td>2017-02-20</td>\n",
              "      <td>99991231</td>\n",
              "      <td>016046109190</td>\n",
              "      <td>BMW</td>\n",
              "      <td>...</td>\n",
              "      <td>No Contact</td>\n",
              "      <td>090163356013</td>\n",
              "      <td>NaN</td>\n",
              "      <td>NaT</td>\n",
              "      <td>090163356013</td>\n",
              "      <td>RCQ</td>\n",
              "      <td>2017-02-19</td>\n",
              "      <td>Last CA was BMW</td>\n",
              "      <td>No previous maintin</td>\n",
              "      <td>Last DR visit pre contract with no contact</td>\n",
              "    </tr>\n",
              "    <tr>\n",
              "      <th>3</th>\n",
              "      <td>3000011470</td>\n",
              "      <td>0062643155</td>\n",
              "      <td>1</td>\n",
              "      <td>2018</td>\n",
              "      <td>2018</td>\n",
              "      <td>2018</td>\n",
              "      <td>2018-01-08</td>\n",
              "      <td>99991231</td>\n",
              "      <td>016061410774</td>\n",
              "      <td>BMW</td>\n",
              "      <td>...</td>\n",
              "      <td>No Contact</td>\n",
              "      <td>016044686144</td>\n",
              "      <td>52</td>\n",
              "      <td>2017-10-13</td>\n",
              "      <td>016000049617</td>\n",
              "      <td>BCM</td>\n",
              "      <td>2016-03-16</td>\n",
              "      <td>Last CA was no BMW</td>\n",
              "      <td>No contact3rd</td>\n",
              "      <td>Last DR visit pre contract with no contact</td>\n",
              "    </tr>\n",
              "    <tr>\n",
              "      <th>4</th>\n",
              "      <td>3000013813</td>\n",
              "      <td>0064537002</td>\n",
              "      <td>2</td>\n",
              "      <td>2019</td>\n",
              "      <td>2019</td>\n",
              "      <td>2019</td>\n",
              "      <td>2019-06-06</td>\n",
              "      <td>99991231</td>\n",
              "      <td>016077584175</td>\n",
              "      <td>BMW</td>\n",
              "      <td>...</td>\n",
              "      <td>No Contact</td>\n",
              "      <td>016026845787</td>\n",
              "      <td>NaN</td>\n",
              "      <td>NaT</td>\n",
              "      <td>016025074149</td>\n",
              "      <td>RCQ</td>\n",
              "      <td>2016-01-31</td>\n",
              "      <td>Last CA was no BMW</td>\n",
              "      <td>No previous maintin</td>\n",
              "      <td>Last DR visit pre contract with no contact</td>\n",
              "    </tr>\n",
              "  </tbody>\n",
              "</table>\n",
              "<p>5 rows × 41 columns</p>\n",
              "</div>"
            ],
            "text/plain": [
              "   installation    contract  div  mi_year  mi_year_comment  mi_year_comment_2  \\\n",
              "0    3000004096  0062704402    2     2016             2016               2016   \n",
              "1    3000007223  0066125098    1     2019             2019               2019   \n",
              "2    3000009773  0060864734    1     2017             2017               2017   \n",
              "3    3000011470  0062643155    1     2018             2018               2018   \n",
              "4    3000013813  0064537002    2     2019             2019               2019   \n",
              "\n",
              "  contract_mi  contract_mo            ca zzpayment_plan  \\\n",
              "0  2016-04-26     99991231  016061945783            BMW   \n",
              "1  2019-11-25     99991231  016088707077            BMW   \n",
              "2  2017-02-20     99991231  016046109190            BMW   \n",
              "3  2018-01-08     99991231  016061410774            BMW   \n",
              "4  2019-06-06     99991231  016077584175            BMW   \n",
              "\n",
              "                      ...                     Freetext_Summary_2  \\\n",
              "0                     ...                             No Contact   \n",
              "1                     ...                             No Contact   \n",
              "2                     ...                             No Contact   \n",
              "3                     ...                             No Contact   \n",
              "4                     ...                             No Contact   \n",
              "\n",
              "   last_ca_noBMW maintin maintin_date       last_ca  last_ca_payplan  \\\n",
              "0   016020092500     NaN          NaT  016020092500              RCQ   \n",
              "1   016042935167      52   2019-08-05  009076453015              BDM   \n",
              "2   090163356013     NaN          NaT  090163356013              RCQ   \n",
              "3   016044686144      52   2017-10-13  016000049617              BCM   \n",
              "4   016026845787     NaN          NaT  016025074149              RCQ   \n",
              "\n",
              "  last_ca_mo          Scenario_1         Scenario_DCA  \\\n",
              "0 2016-04-25     Last CA was BMW  No previous maintin   \n",
              "1 2016-04-30  Last CA was no BMW        No contact3rd   \n",
              "2 2017-02-19     Last CA was BMW  No previous maintin   \n",
              "3 2016-03-16  Last CA was no BMW        No contact3rd   \n",
              "4 2016-01-31  Last CA was no BMW  No previous maintin   \n",
              "\n",
              "                                  Scenario_DR  \n",
              "0  Last DR visit pre contract with no contact  \n",
              "1  Last DR visit pre contract with no contact  \n",
              "2  Last DR visit pre contract with no contact  \n",
              "3  Last DR visit pre contract with no contact  \n",
              "4  Last DR visit pre contract with no contact  \n",
              "\n",
              "[5 rows x 41 columns]"
            ]
          },
          "execution_count": 353,
          "metadata": {},
          "output_type": "execute_result"
        }
      ],
      "source": [
        "raw.head()"
      ]
    },
    {
      "cell_type": "code",
      "execution_count": null,
      "metadata": {
        "id": "z_iIGdLaKFou"
      },
      "outputs": [],
      "source": [
        "#Lanzamos la query para obtener la CA anterior\n",
        "def sql_query1(username): return \"\"\"\n",
        "    SELECT\n",
        "        a.contract,\n",
        "        a.contract_status\n",
        "    FROM \n",
        "        reta.mv_integrated_md@rbip a\n",
        "    INNER JOIN\n",
        "        %s.U406403_AUX2 tb\n",
        "        ON \n",
        "        tb.COLUMN1 = a.contract\n",
        "                \"\"\"%username"
      ]
    },
    {
      "cell_type": "code",
      "execution_count": null,
      "metadata": {
        "id": "MzwwqidJKFou"
      },
      "outputs": [],
      "source": [
        "writelog('query6_start')\n",
        "df_accounts6 = query_bw(key_entry)\n",
        "writelog('query6_end')"
      ]
    },
    {
      "cell_type": "code",
      "execution_count": null,
      "metadata": {
        "id": "uPfB18BxKFou"
      },
      "outputs": [],
      "source": [
        "df_accounts6.drop_duplicates(subset=['contract'], inplace=True)\n",
        "\n",
        "raw = pd.merge(raw, df_accounts6, how = 'left', on='contract')"
      ]
    },
    {
      "cell_type": "code",
      "execution_count": null,
      "metadata": {
        "id": "Ewdo8-2GKFov",
        "outputId": "b25b8fad-13a4-4df0-c6ee-4513c38ed30a"
      },
      "outputs": [
        {
          "data": {
            "text/plain": [
              "'Report_Deuda_Meters_20210706.xlsx'"
            ]
          },
          "execution_count": 357,
          "metadata": {},
          "output_type": "execute_result"
        }
      ],
      "source": [
        "PP_report_raw[PP_report_raw['contract']=='67836368']\n",
        "PP_file"
      ]
    },
    {
      "cell_type": "code",
      "execution_count": null,
      "metadata": {
        "id": "dXMh1hgsKFov"
      },
      "outputs": [],
      "source": [
        "#Vamos a cargar la info del PP tracker\n",
        "PP_tracker_path = r'\\\\Cathnas01\\FIS Project\\24 Analysis & Design\\Debt\\Reporting\\GBO debt cleanse campaigns\\PP tracker'\n",
        "\n",
        "PP_file = 'Report_Deuda_Meters_2021'\n",
        "PP_files =[]\n",
        "os.chdir(PP_tracker_path)\n",
        "for file in glob.glob(PP_file+'*'):\n",
        "    PP_files.append(file)\n",
        "PP_files = [i for i in PP_files if i[-4:]=='xlsx']\n",
        "PP_files.sort(reverse=True)\n",
        "PP_file = PP_files[0]\n",
        "\n",
        "#Cargamos el archivo seleccionado\n",
        "PP_report_raw = pd.read_excel(PP_tracker_path+'/'+PP_file, sheet_name='DATA')[['CONCTRACT_INT','Scenario NP','Scenario']]\n",
        "\n",
        "PP_report_raw = PP_report_raw.rename(columns={'CONCTRACT_INT':'contract',\n",
        "                                             'Scenario':'Scenario_PP'})\n",
        "\n",
        "PP_report_raw['contract'] = PP_report_raw['contract'].astype(np.int64)\n",
        "PP_report_raw['contract'] = PP_report_raw['contract'].apply(str).str.zfill(10)\n",
        "raw = pd.merge(raw, PP_report_raw, how = 'left', on='contract')"
      ]
    },
    {
      "cell_type": "code",
      "execution_count": null,
      "metadata": {
        "id": "_sEummgyKFov"
      },
      "outputs": [],
      "source": [
        "key_entry = raw[['pod']]"
      ]
    },
    {
      "cell_type": "code",
      "execution_count": null,
      "metadata": {
        "id": "TsJzo1pmKFow"
      },
      "outputs": [],
      "source": [
        "#Lanzamos la query para obtener el POD\n",
        "def sql_query1(username): return \"\"\"\n",
        "    SELECT \n",
        "        ltrim(a.ext_UI,0) AS pod,\n",
        "        a.z_date AS action_date,\n",
        "        a.ABLHINW AS mr_note\n",
        "    FROM\n",
        "        cdc.UAP_ZUDM_TMRFREETEXT@rbip a\n",
        "    INNER JOIN\n",
        "        %s.U406403_AUX2 tb\n",
        "        ON \n",
        "        tb.COLUMN1 = ltrim(a.ext_ui,0)\n",
        "                \"\"\"%username"
      ]
    },
    {
      "cell_type": "code",
      "execution_count": null,
      "metadata": {
        "id": "pX-abQ85KFow"
      },
      "outputs": [],
      "source": [
        "writelog('query7_start')\n",
        "df_accounts7 = query_bw(key_entry)\n",
        "writelog('query7_end')"
      ]
    },
    {
      "cell_type": "code",
      "execution_count": null,
      "metadata": {
        "id": "Nxljx_mzKFow"
      },
      "outputs": [],
      "source": [
        "# file = 'Free text codes.xlsx'\n",
        "# Codes_mapping = pd.read_excel(join(workfolder,file), sheet_name='Sheet1')\n",
        "# Codes_mapping['MR_NOTE'] = Codes_mapping['MR_NOTE'].astype(str)\n",
        "# Codes_mapping = Codes_mapping.rename(columns={'MR_NOTE':'mr_note',})\n",
        "\n",
        "#Ponemos la MR_NOTE en texto para evitar problemas y borramos la fecha de los casos con MR_NOTE vacío\n",
        "df_accounts7['mr_note'] = df_accounts7['mr_note'].astype(str)\n",
        "df_accounts7['mr_note'] = df_accounts7['mr_note'].str.replace(' ', '')\n",
        "\n",
        "df_accounts7['action_date'] = np.where(df_accounts7['mr_note']=='', '', df_accounts7['action_date'])\n",
        "\n",
        "df_accounts7 = pd.merge(df_accounts7, Codes_mapping, how='left', on='mr_note' )\n"
      ]
    },
    {
      "cell_type": "code",
      "execution_count": null,
      "metadata": {
        "scrolled": true,
        "id": "GtAe9ovhKFow",
        "outputId": "0a06c12c-e175-4c6f-f52e-9ac954161718"
      },
      "outputs": [
        {
          "name": "stderr",
          "output_type": "stream",
          "text": [
            "C:\\Users\\U406403\\AppData\\Local\\Continuum\\anaconda3\\lib\\site-packages\\ipykernel_launcher.py:2: SettingWithCopyWarning: \n",
            "A value is trying to be set on a copy of a slice from a DataFrame\n",
            "\n",
            "See the caveats in the documentation: http://pandas.pydata.org/pandas-docs/stable/indexing.html#indexing-view-versus-copy\n",
            "  \n"
          ]
        }
      ],
      "source": [
        "midate = raw[['pod', 'contract_mi']]\n",
        "midate.drop_duplicates(subset=['pod'], inplace=True)\n",
        "\n",
        "df_accounts7 = pd.merge(df_accounts7, midate, how='left', on='pod' )\n",
        "\n",
        "df_accounts7['action_date'] = pd.to_datetime(df_accounts7['action_date'],format='%Y%m%d',errors='coerce')\n",
        "#df_accounts2['contract_mi'] = pd.to_datetime(df_accounts2['contract_mi'],format='%Y%m%d',errors='coerce')\n",
        "\n",
        "\n",
        "df_accounts7a = df_accounts7[(df_accounts7['contract_mi']<=df_accounts7['action_date'])&\n",
        "                           (df_accounts7['mr_note']=='E126')]\n",
        "df_accounts7a = df_accounts7a.sort_values(['pod','action_date'],ascending=[True, False])\n",
        "df_accounts7a.drop_duplicates(subset=['pod'], inplace=True)\n",
        "df_accounts7a = df_accounts7a[['pod','mr_note']]\n",
        "df_accounts7a['mr_note'] = 'Vacant code received'\n",
        "df_accounts7a = df_accounts7a.rename(columns={'mr_note':'DR_Vacant'})\n",
        "\n",
        "\n",
        "\n",
        "df_accounts7b = df_accounts7[(df_accounts7['contract_mi']<=df_accounts7['action_date'])]\n",
        "df_accounts7b = df_accounts7b.sort_values(['pod','action_date'],ascending=[True, False])\n",
        "df_accounts7b.drop_duplicates(subset=['pod'], inplace=True)\n",
        "df_accounts7b = df_accounts7b.drop(['contract_mi'], axis=1)\n",
        "df_accounts7b = df_accounts7b.rename(columns={'mr_note':'last_mr_note',\n",
        "                                             'action_date':'last_action_date',\n",
        "                                             'Freetext_Description':'Last_Freetext_Description',\n",
        "                                             'Freetext_Summary':'Last_Freetext_Summary',\n",
        "                                             'Freetext_Summary_2':'Last_Freetext_Summary_2'})\n",
        "\n",
        "\n",
        "raw = pd.merge(raw, df_accounts7a, how='left', on='pod' )\n",
        "raw = pd.merge(raw, df_accounts7b, how='left', on='pod' )"
      ]
    },
    {
      "cell_type": "code",
      "execution_count": null,
      "metadata": {
        "id": "92Lp80gyKFox",
        "outputId": "69bfbc3e-3a16-42a1-f0d6-75fe1ded8a51"
      },
      "outputs": [
        {
          "data": {
            "text/html": [
              "<div>\n",
              "<style scoped>\n",
              "    .dataframe tbody tr th:only-of-type {\n",
              "        vertical-align: middle;\n",
              "    }\n",
              "\n",
              "    .dataframe tbody tr th {\n",
              "        vertical-align: top;\n",
              "    }\n",
              "\n",
              "    .dataframe thead th {\n",
              "        text-align: right;\n",
              "    }\n",
              "</style>\n",
              "<table border=\"1\" class=\"dataframe\">\n",
              "  <thead>\n",
              "    <tr style=\"text-align: right;\">\n",
              "      <th></th>\n",
              "      <th>pod</th>\n",
              "      <th>action_date</th>\n",
              "      <th>mr_note</th>\n",
              "      <th>Freetext_Description</th>\n",
              "      <th>Freetext_Summary</th>\n",
              "      <th>Freetext_Summary_2</th>\n",
              "      <th>contract_mi</th>\n",
              "    </tr>\n",
              "  </thead>\n",
              "  <tbody>\n",
              "    <tr>\n",
              "      <th>0</th>\n",
              "      <td>1010714604</td>\n",
              "      <td>2020-06-01</td>\n",
              "      <td>E128</td>\n",
              "      <td>Unable to access premises</td>\n",
              "      <td>Others</td>\n",
              "      <td>No Contact</td>\n",
              "      <td>2019-06-25</td>\n",
              "    </tr>\n",
              "    <tr>\n",
              "      <th>1</th>\n",
              "      <td>1011011103</td>\n",
              "      <td>2013-07-04</td>\n",
              "      <td>E128</td>\n",
              "      <td>Unable to access premises</td>\n",
              "      <td>Others</td>\n",
              "      <td>No Contact</td>\n",
              "      <td>2016-04-03</td>\n",
              "    </tr>\n",
              "    <tr>\n",
              "      <th>2</th>\n",
              "      <td>1011011103</td>\n",
              "      <td>2013-10-03</td>\n",
              "      <td>E128</td>\n",
              "      <td>Unable to access premises</td>\n",
              "      <td>Others</td>\n",
              "      <td>No Contact</td>\n",
              "      <td>2016-04-03</td>\n",
              "    </tr>\n",
              "    <tr>\n",
              "      <th>3</th>\n",
              "      <td>1011011103</td>\n",
              "      <td>2014-03-28</td>\n",
              "      <td>E128</td>\n",
              "      <td>Unable to access premises</td>\n",
              "      <td>Others</td>\n",
              "      <td>No Contact</td>\n",
              "      <td>2016-04-03</td>\n",
              "    </tr>\n",
              "    <tr>\n",
              "      <th>4</th>\n",
              "      <td>1011011103</td>\n",
              "      <td>2015-07-12</td>\n",
              "      <td>E128</td>\n",
              "      <td>Unable to access premises</td>\n",
              "      <td>Others</td>\n",
              "      <td>No Contact</td>\n",
              "      <td>2016-04-03</td>\n",
              "    </tr>\n",
              "  </tbody>\n",
              "</table>\n",
              "</div>"
            ],
            "text/plain": [
              "          pod action_date mr_note       Freetext_Description Freetext_Summary  \\\n",
              "0  1010714604  2020-06-01    E128  Unable to access premises           Others   \n",
              "1  1011011103  2013-07-04    E128  Unable to access premises           Others   \n",
              "2  1011011103  2013-10-03    E128  Unable to access premises           Others   \n",
              "3  1011011103  2014-03-28    E128  Unable to access premises           Others   \n",
              "4  1011011103  2015-07-12    E128  Unable to access premises           Others   \n",
              "\n",
              "  Freetext_Summary_2 contract_mi  \n",
              "0         No Contact  2019-06-25  \n",
              "1         No Contact  2016-04-03  \n",
              "2         No Contact  2016-04-03  \n",
              "3         No Contact  2016-04-03  \n",
              "4         No Contact  2016-04-03  "
            ]
          },
          "execution_count": 364,
          "metadata": {},
          "output_type": "execute_result"
        }
      ],
      "source": [
        "df_accounts7.head()"
      ]
    },
    {
      "cell_type": "code",
      "execution_count": null,
      "metadata": {
        "id": "ymouFV2dKFox"
      },
      "outputs": [],
      "source": [
        "key_entry = raw[['installation']]"
      ]
    },
    {
      "cell_type": "code",
      "execution_count": null,
      "metadata": {
        "id": "UZEtpT8TKFox"
      },
      "outputs": [],
      "source": [
        "#Lanzamos la query para obtener el MSN y material\n",
        "def sql_query1(username): return \"\"\"\n",
        "     SELECT \n",
        "        a.ANLAGE    AS installation,\n",
        "        c.SERGE AS msn\n",
        "        --c.MATNR AS material\n",
        "    FROM \n",
        "        cdc.UAP_EASTS@rbip a\n",
        "    INNER JOIN \n",
        "        cdc.UAP_ETDZ@rbip b \n",
        "            ON a.LOGIKZW = b.LOGIKZW \n",
        "    INNER JOIN \n",
        "        cdc.UAP_EQUI@rbip c \n",
        "            ON b.EQUNR =c.EQUNR \n",
        "    INNER JOIN\n",
        "        %s.U406403_AUX2 tb\n",
        "        ON \n",
        "        tb.COLUMN1 = a.ANLAGE\n",
        "    WHERE \n",
        "            a.BIS = '99991231'\n",
        "        AND \n",
        "            b.BIS = '99991231'\n",
        "        AND\n",
        "            a.ZWNSETTL <> 'X' \n",
        "                \"\"\"%username"
      ]
    },
    {
      "cell_type": "code",
      "execution_count": null,
      "metadata": {
        "id": "kui30nvZKFox"
      },
      "outputs": [],
      "source": [
        "writelog('query8_start')\n",
        "df_accounts8 = query_bw(key_entry)\n",
        "writelog('query8_end')"
      ]
    },
    {
      "cell_type": "code",
      "execution_count": null,
      "metadata": {
        "id": "mFQFWyWdKFoy"
      },
      "outputs": [],
      "source": [
        "#Incluimos la info del MSN y Material\n",
        "df_accounts8['installation']=df_accounts8['installation'].astype(np.int64)\n",
        "df_accounts8.drop_duplicates(subset=['installation'], inplace=True)\n",
        "raw = pd.merge(raw, df_accounts8, how='left', on='installation')"
      ]
    },
    {
      "cell_type": "code",
      "execution_count": null,
      "metadata": {
        "id": "UfbXnY6NKFoy"
      },
      "outputs": [],
      "source": [
        "key_entry = raw[['contract']]"
      ]
    },
    {
      "cell_type": "code",
      "execution_count": null,
      "metadata": {
        "id": "5YJxwH_vKFoy"
      },
      "outputs": [],
      "source": [
        "#Lanzamos la query para obtener el MSN y material\n",
        "def sql_query1(username): return \"\"\"\n",
        "    SELECT\n",
        "        a.vertrag as contract,\n",
        "        a.CONT4_ERROR \n",
        "    FROM cdc.UAP_ZISU_COH_CONTR@rbip a\n",
        "    INNER JOIN\n",
        "        %s.U406403_AUX2 tb\n",
        "        ON \n",
        "        tb.COLUMN1 = a.vertrag\n",
        "                \"\"\"%username"
      ]
    },
    {
      "cell_type": "code",
      "execution_count": null,
      "metadata": {
        "id": "ML3TYe_FKFoy"
      },
      "outputs": [],
      "source": [
        "writelog('query9_start')\n",
        "df_accounts9 = query_bw(key_entry)\n",
        "writelog('query9_end')"
      ]
    },
    {
      "cell_type": "code",
      "execution_count": null,
      "metadata": {
        "id": "fuoC0HHrKFoz"
      },
      "outputs": [],
      "source": [
        "#Incluimos la info del MSN y Material\n",
        "df_accounts9.drop_duplicates(subset=['contract'], inplace=True)\n",
        "raw = pd.merge(raw, df_accounts9, how='left', on='contract')"
      ]
    },
    {
      "cell_type": "code",
      "execution_count": null,
      "metadata": {
        "id": "X3R4YC3BKFoz"
      },
      "outputs": [],
      "source": [
        "#Vamos a cargar la info del report de missalignments de Scott\n",
        "Scott_path = r'C:\\Users\\U406403\\Desktop\\Python\\20210705_AW_PP_without_reads'\n",
        "Scott_file = 'PPMIP_Scott.xlsx'\n",
        "\n",
        "#Cargamos el archivo seleccionado\n",
        "Scott_report_gas = pd.read_excel(join(Scott_path,Scott_file), sheet_name='Gas')[['installation','Category_MSN_miss']]\n",
        "Scott_report_elec = pd.read_excel(join(Scott_path,Scott_file), sheet_name='Electricity')[['installation','Category_MSN_miss']]\n",
        "\n",
        "Scott_report = Scott_report_gas.append(Scott_report_elec)\n",
        "\n",
        "Scott_report.drop_duplicates(subset=['installation'], inplace=True)\n",
        "raw = pd.merge(raw, Scott_report, how = 'left', on='installation')\n"
      ]
    },
    {
      "cell_type": "code",
      "execution_count": null,
      "metadata": {
        "id": "-R6vlchRKFoz"
      },
      "outputs": [],
      "source": [
        "raw = raw.rename(columns={'div':'divis','zzpayment_plan':'payplan'})"
      ]
    },
    {
      "cell_type": "code",
      "execution_count": null,
      "metadata": {
        "id": "UDv16OyGKFoz"
      },
      "outputs": [],
      "source": [
        "raw.to_excel(join(workfolder,'PP_without_reads.xlsx'),'DATA',index=False)"
      ]
    },
    {
      "cell_type": "code",
      "execution_count": null,
      "metadata": {
        "id": "IEgXQkzvKFo0"
      },
      "outputs": [],
      "source": [
        ""
      ]
    },
    {
      "cell_type": "code",
      "execution_count": null,
      "metadata": {
        "id": "3SGVz36AKFo0"
      },
      "outputs": [],
      "source": [
        "# raw = raw.drop(['resumen'], axis=1)\n",
        "# raw = raw.drop(['resumen_post'], axis=1)\n",
        "# raw = raw.drop(['current_agency'], axis=1)\n",
        "# raw = raw.drop(['agency_summary'], axis=1)\n",
        "# raw = raw.drop(['exclusion'], axis=1)"
      ]
    },
    {
      "cell_type": "code",
      "execution_count": null,
      "metadata": {
        "id": "GWvbS1OoKFo0"
      },
      "outputs": [],
      "source": [
        "#raw = raw.drop(['pod'], axis=1)"
      ]
    },
    {
      "cell_type": "code",
      "execution_count": null,
      "metadata": {
        "id": "T6h1OX_CKFo0"
      },
      "outputs": [],
      "source": [
        ""
      ]
    }
  ],
  "metadata": {
    "kernelspec": {
      "display_name": "Python 3",
      "language": "python",
      "name": "python3"
    },
    "language_info": {
      "codemirror_mode": {
        "name": "ipython",
        "version": 3
      },
      "file_extension": ".py",
      "mimetype": "text/x-python",
      "name": "python",
      "nbconvert_exporter": "python",
      "pygments_lexer": "ipython3",
      "version": "3.7.1"
    },
    "colab": {
      "name": "20200706_PP_without_reads.ipynb",
      "provenance": [],
      "include_colab_link": true
    }
  },
  "nbformat": 4,
  "nbformat_minor": 0
}